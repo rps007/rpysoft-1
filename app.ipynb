{
  "cells": [
    {
      "cell_type": "markdown",
      "metadata": {
        "id": "view-in-github",
        "colab_type": "text"
      },
      "source": [
        "<a href=\"https://colab.research.google.com/github/rps007/rpysoft-1/blob/main/app.ipynb\" target=\"_parent\"><img src=\"https://colab.research.google.com/assets/colab-badge.svg\" alt=\"Open In Colab\"/></a>"
      ]
    },
    {
      "cell_type": "code",
      "execution_count": 2,
      "metadata": {
        "id": "o42uglLWHXHW",
        "outputId": "2015f54f-4189-43f9-9e6c-19d7db4da774",
        "colab": {
          "base_uri": "https://localhost:8080/"
        }
      },
      "outputs": [
        {
          "output_type": "stream",
          "name": "stdout",
          "text": [
            "Wie heißt Du?:Edine\n",
            "Edine ist ein Idiot!\n",
            "### done ###\n"
          ]
        }
      ],
      "source": [
        "name = input('Wie heißt Du?:')\n",
        "\n",
        "print(f'{name} ist ein Idiot!')\n",
        "print('### done ###')"
      ]
    }
  ],
  "metadata": {
    "kernelspec": {
      "display_name": "aga",
      "language": "python",
      "name": "python3"
    },
    "language_info": {
      "codemirror_mode": {
        "name": "ipython",
        "version": 3
      },
      "file_extension": ".py",
      "mimetype": "text/x-python",
      "name": "python",
      "nbconvert_exporter": "python",
      "pygments_lexer": "ipython3",
      "version": "3.11.5"
    },
    "colab": {
      "provenance": [],
      "include_colab_link": true
    }
  },
  "nbformat": 4,
  "nbformat_minor": 0
}