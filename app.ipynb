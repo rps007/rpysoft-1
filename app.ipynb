{
 "cells": [
  {
   "cell_type": "code",
   "execution_count": 2,
   "metadata": {},
   "outputs": [
    {
     "name": "stdout",
     "output_type": "stream",
     "text": [
      "Ede Wolf ist ein Idiot!\n",
      "### done ###\n"
     ]
    }
   ],
   "source": [
    "name = input('Wie heißt Du?:')\n",
    "\n",
    "print(f'{name} ist ein Idiot!')\n",
    "print('### done ###')"
   ]
  }
 ],
 "metadata": {
  "kernelspec": {
   "display_name": "aga",
   "language": "python",
   "name": "python3"
  },
  "language_info": {
   "codemirror_mode": {
    "name": "ipython",
    "version": 3
   },
   "file_extension": ".py",
   "mimetype": "text/x-python",
   "name": "python",
   "nbconvert_exporter": "python",
   "pygments_lexer": "ipython3",
   "version": "3.11.5"
  }
 },
 "nbformat": 4,
 "nbformat_minor": 2
}
